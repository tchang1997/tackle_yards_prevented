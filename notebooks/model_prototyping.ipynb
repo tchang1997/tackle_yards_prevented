{
 "cells": [
  {
   "cell_type": "code",
   "execution_count": 1,
   "metadata": {},
   "outputs": [
    {
     "data": {
      "text/plain": [
       "'2.1.0'"
      ]
     },
     "execution_count": 1,
     "metadata": {},
     "output_type": "execute_result"
    }
   ],
   "source": [
    "import torch\n",
    "import torch.nn as nn\n",
    "torch.__version__\n"
   ]
  },
  {
   "cell_type": "code",
   "execution_count": 2,
   "metadata": {},
   "outputs": [],
   "source": [
    "from torch.utils.data import Dataset, DataLoader\n",
    "from torch.nn.utils.rnn import pad_sequence\n",
    "\n",
    "\n",
    "\n",
    "import sys\n",
    "if \"..\" not in sys.path:\n",
    "    sys.path.insert(0, \"..\")\n",
    "\n",
    "from datasets import PlayByPlayDataset\n",
    "\n",
    "dataset = PlayByPlayDataset(\"../data/nfl-big-data-bowl-2024/play_by_play_features.pkl\")\n"
   ]
  },
  {
   "cell_type": "code",
   "execution_count": 28,
   "metadata": {},
   "outputs": [
    {
     "data": {
      "text/plain": [
       "(['offense_geometric',\n",
       "  'defense_geometric',\n",
       "  'offense_raw',\n",
       "  'defense_raw',\n",
       "  'ball_carrier_raw',\n",
       "  'play_features',\n",
       "  'game_id',\n",
       "  'play_id',\n",
       "  'player_tracking',\n",
       "  'event_timeseries',\n",
       "  'players_on_the_field',\n",
       "  'tackle_successful',\n",
       "  'yards_after_contact'],\n",
       " ballCarrierId                        47857\n",
       " ballCarrierDisplayName    Devin Singletary\n",
       " quarter                                  1\n",
       " down                                     2\n",
       " yardsToGo                                3\n",
       " possessionTeam                         BUF\n",
       " defensiveTeam                           LA\n",
       " yardlineSide                           BUF\n",
       " yardlineNumber                          45\n",
       " gameClock                            13:15\n",
       " preSnapHomeScore                         0\n",
       " preSnapVisitorScore                      0\n",
       " passResult                               C\n",
       " absoluteYardlineNumber                  65\n",
       " prePenaltyPlayResult                     6\n",
       " playResult                               6\n",
       " offenseFormation                   SHOTGUN\n",
       " defendersInTheBox                      6.0\n",
       " passProbability                   0.686939\n",
       " Name: (2022090800, 122), dtype: object)"
      ]
     },
     "execution_count": 28,
     "metadata": {},
     "output_type": "execute_result"
    }
   ],
   "source": [
    "list(dataset[2].keys()), dataset[2][\"play_features\"]\n"
   ]
  },
  {
   "cell_type": "code",
   "execution_count": 48,
   "metadata": {},
   "outputs": [],
   "source": [
    "PAD_VALUE = 123456789.\n",
    "TIME_SERIES_KEYS = [\"offense_geometric\", \"offense_raw\", \"defense_geometric\", \"defense_raw\", \"ball_carrier_raw\", \"event_timeseries\"]\n",
    "TARGET_KEY = \"yards_after_contact\"\n",
    "TREATMENT_KEY = \"tackle_successful\"\n",
    "STATIC_KEYS = [] # future: play features and on-field player info\n",
    "\n",
    "from collections import defaultdict\n",
    "\n",
    "def collate_padded_play_data(batch):\n",
    "    batchdict = defaultdict(list)\n",
    "    for item in batch:\n",
    "        for k, v in item.items():\n",
    "            if k in TIME_SERIES_KEYS + STATIC_KEYS:\n",
    "                batchdict[k].append(torch.from_numpy(v.to_numpy()))\n",
    "            elif k in [TARGET_KEY, TREATMENT_KEY]:\n",
    "                batchdict[k].append(v)\n",
    "    X_padded = torch.cat([pad_sequence(batchdict[k], batch_first=True, padding_value=PAD_VALUE) for k in TIME_SERIES_KEYS], dim=2)\n",
    "    return {\"time_series_features\": X_padded, \"features\": batchdict[\"play_features\"], \"target\": batchdict[\"yards_after_contact\"], \"treatment\": batchdict[\"tackle_successful\"]}\n",
    "\n",
    "\n",
    "dataloader = DataLoader(dataset, batch_size=8, shuffle=True, collate_fn=collate_padded_play_data)\n",
    "batch = next(iter(dataloader))\n"
   ]
  },
  {
   "cell_type": "code",
   "execution_count": 49,
   "metadata": {},
   "outputs": [
    {
     "data": {
      "text/plain": [
       "torch.Size([8, 39, 248])"
      ]
     },
     "execution_count": 49,
     "metadata": {},
     "output_type": "execute_result"
    }
   ],
   "source": [
    "batch[\"time_series_features\"].shape\n"
   ]
  },
  {
   "cell_type": "code",
   "execution_count": null,
   "metadata": {},
   "outputs": [],
   "source": []
  }
 ],
 "metadata": {
  "kernelspec": {
   "display_name": "nfl_bdb",
   "language": "python",
   "name": "python3"
  },
  "language_info": {
   "codemirror_mode": {
    "name": "ipython",
    "version": 3
   },
   "file_extension": ".py",
   "mimetype": "text/x-python",
   "name": "python",
   "nbconvert_exporter": "python",
   "pygments_lexer": "ipython3",
   "version": "3.11.5"
  }
 },
 "nbformat": 4,
 "nbformat_minor": 2
}
