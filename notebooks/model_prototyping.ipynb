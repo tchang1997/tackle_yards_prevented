{
 "cells": [
  {
   "cell_type": "code",
   "execution_count": 1,
   "metadata": {},
   "outputs": [
    {
     "data": {
      "text/plain": [
       "'2.1.0'"
      ]
     },
     "execution_count": 1,
     "metadata": {},
     "output_type": "execute_result"
    }
   ],
   "source": [
    "import torch\n",
    "import torch.nn as nn\n",
    "\n",
    "from torch.utils.data import Dataset, DataLoader\n",
    "from torch.nn.utils.rnn import pad_sequence\n",
    "\n",
    "\n",
    "\n",
    "import sys\n",
    "if \"..\" not in sys.path:\n",
    "    sys.path.insert(0, \"..\")\n",
    "\n",
    "from datasets import *\n",
    "\n",
    "dataset = PlayByPlayDataset(\"../data/nfl-big-data-bowl-2024/play_by_play_val.pkl\")\n",
    "\n",
    "\n",
    "torch.__version__\n"
   ]
  },
  {
   "cell_type": "code",
   "execution_count": 2,
   "metadata": {},
   "outputs": [
    {
     "data": {
      "text/plain": [
       "dict_keys(['offense_geometric', 'defense_geometric', 'offense_raw', 'defense_raw', 'ball_carrier_raw', 'tacklers_raw', 'game_id', 'play_id', 'player_tracking', 'event_timeseries', 'players_on_the_field', 'play_features', 'play_features_encoded', 'tackle_successful', 'yards_after_contact'])"
      ]
     },
     "execution_count": 2,
     "metadata": {},
     "output_type": "execute_result"
    }
   ],
   "source": [
    "dataset[0].keys()\n"
   ]
  },
  {
   "cell_type": "code",
   "execution_count": 5,
   "metadata": {},
   "outputs": [],
   "source": [
    "\n",
    "dataloader = DataLoader(dataset, batch_size=4, shuffle=False, collate_fn=collate_padded_play_data_with_carrier_tackler_info)\n",
    "batch = next(iter(dataloader))\n"
   ]
  },
  {
   "cell_type": "code",
   "execution_count": 14,
   "metadata": {},
   "outputs": [
    {
     "data": {
      "text/plain": [
       "torch.Size([4])"
      ]
     },
     "execution_count": 14,
     "metadata": {},
     "output_type": "execute_result"
    }
   ],
   "source": [
    "batch[\"time_series_features\"][3].size()\n"
   ]
  },
  {
   "cell_type": "code",
   "execution_count": 4,
   "metadata": {},
   "outputs": [
    {
     "data": {
      "text/plain": [
       "[torch.Size([43, 1, 6]),\n",
       " torch.Size([21, 2, 6]),\n",
       " torch.Size([16, 1, 6]),\n",
       " torch.Size([47, 1, 6])]"
      ]
     },
     "execution_count": 4,
     "metadata": {},
     "output_type": "execute_result"
    }
   ],
   "source": [
    "test_batch_size = 4\n",
    "sample_batchdict = create_batchdict([dataset[i] for i in range(test_batch_size)])\n",
    "\n",
    "[t.view(t.size(0), -1, 6).size() for t in sample_batchdict[\"tacklers_raw\"]]\n"
   ]
  },
  {
   "cell_type": "code",
   "execution_count": 16,
   "metadata": {},
   "outputs": [
    {
     "data": {
      "text/plain": [
       "(torch.Size([4, 47, 105]),\n",
       " torch.Size([4, 47, 6]),\n",
       " torch.Size([4, 47, 2, 6]),\n",
       " tensor([1, 2, 1, 1]))"
      ]
     },
     "execution_count": 16,
     "metadata": {},
     "output_type": "execute_result"
    }
   ],
   "source": [
    "(batch['time_series_features'][0].size(),\n",
    "batch['time_series_features'][1].size(),\n",
    "batch['time_series_features'][2].size(),\n",
    "batch['time_series_features'][3],\n",
    ")\n"
   ]
  },
  {
   "cell_type": "code",
   "execution_count": 59,
   "metadata": {},
   "outputs": [],
   "source": [
    "# 248 is the dimensionality of the time-series features\n",
    "\n",
    "encoder_layer = nn.TransformerEncoderLayer(d_model=248, nhead=8, batch_first=True)\n",
    "transformer_encoder = nn.TransformerEncoder(encoder_layer, num_layers=6)\n",
    "X = batch[\"time_series_features\"].float()\n",
    "out = transformer_encoder(X, src_key_padding_mask=(X[..., 0] == PAD_VALUE))\n"
   ]
  },
  {
   "cell_type": "code",
   "execution_count": 60,
   "metadata": {},
   "outputs": [
    {
     "data": {
      "text/plain": [
       "torch.Size([8, 39, 248])"
      ]
     },
     "execution_count": 60,
     "metadata": {},
     "output_type": "execute_result"
    }
   ],
   "source": [
    "out.size() # batch size, time, n_features\n",
    "# in the future -- concat with batch_size, n_features' shaped things -- need to squish out the time dim\n"
   ]
  },
  {
   "cell_type": "code",
   "execution_count": 61,
   "metadata": {},
   "outputs": [
    {
     "data": {
      "text/plain": [
       "9672"
      ]
     },
     "execution_count": 61,
     "metadata": {},
     "output_type": "execute_result"
    }
   ],
   "source": [
    "39 * 248\n"
   ]
  },
  {
   "cell_type": "code",
   "execution_count": null,
   "metadata": {},
   "outputs": [],
   "source": []
  }
 ],
 "metadata": {
  "kernelspec": {
   "display_name": "nfl_bdb",
   "language": "python",
   "name": "python3"
  },
  "language_info": {
   "codemirror_mode": {
    "name": "ipython",
    "version": 3
   },
   "file_extension": ".py",
   "mimetype": "text/x-python",
   "name": "python",
   "nbconvert_exporter": "python",
   "pygments_lexer": "ipython3",
   "version": "3.11.5"
  }
 },
 "nbformat": 4,
 "nbformat_minor": 2
}
