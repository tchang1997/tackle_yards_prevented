{
 "cells": [
  {
   "cell_type": "code",
   "execution_count": 1,
   "metadata": {},
   "outputs": [
    {
     "data": {
      "text/plain": [
       "'2.1.0'"
      ]
     },
     "execution_count": 1,
     "metadata": {},
     "output_type": "execute_result"
    }
   ],
   "source": [
    "import torch\n",
    "import torch.nn as nn\n",
    "\n",
    "from torch.utils.data import Dataset, DataLoader\n",
    "from torch.nn.utils.rnn import pad_sequence\n",
    "\n",
    "\n",
    "\n",
    "import sys\n",
    "if \"..\" not in sys.path:\n",
    "    sys.path.insert(0, \"..\")\n",
    "\n",
    "from datasets import create_batchdict, PlayByPlayDataset\n",
    "\n",
    "dataset = PlayByPlayDataset(\"../data/nfl-big-data-bowl-2024/play_by_play_val.pkl\")\n",
    "\n",
    "\n",
    "torch.__version__\n"
   ]
  },
  {
   "cell_type": "code",
   "execution_count": 8,
   "metadata": {},
   "outputs": [
    {
     "data": {
      "text/plain": [
       "3.4594572025052197"
      ]
     },
     "execution_count": 8,
     "metadata": {},
     "output_type": "execute_result"
    }
   ],
   "source": [
    "import numpy as np\n",
    "\n",
    "y = np.array([dataset[i]['yards_after_contact'] for  i  in range(len(dataset))])\n",
    "np.mean(y)\n"
   ]
  },
  {
   "cell_type": "code",
   "execution_count": 8,
   "metadata": {},
   "outputs": [
    {
     "data": {
      "text/plain": [
       "Q1                       0.000000\n",
       "Q2                       0.000000\n",
       "Q3                       0.000000\n",
       "Q4                       1.000000\n",
       "OT                       0.000000\n",
       "down_1                   0.000000\n",
       "down_2                   0.000000\n",
       "down_3                   1.000000\n",
       "down_4                   0.000000\n",
       "yardage_short            0.000000\n",
       "yardage_medium           1.000000\n",
       "yardage_long             0.000000\n",
       "yardage_very_long        0.000000\n",
       "time                     3.066667\n",
       "preSnapHomeScore        19.000000\n",
       "preSnapVisitorScore      3.000000\n",
       "0                       16.000000\n",
       "formation_EMPTY          0.000000\n",
       "formation_I_FORM         0.000000\n",
       "formation_JUMBO          0.000000\n",
       "formation_PISTOL         0.000000\n",
       "formation_SHOTGUN        0.000000\n",
       "formation_SINGLEBACK     1.000000\n",
       "formation_WILDCAT        0.000000\n",
       "n_def_in_box_(0, 4]      0.000000\n",
       "n_def_in_box_(4, 5]      0.000000\n",
       "n_def_in_box_(5, 6]      0.000000\n",
       "n_def_in_box_(6, 7]      1.000000\n",
       "n_def_in_box_(7, 8]      0.000000\n",
       "n_def_in_box_(8, 12]     0.000000\n",
       "Name: (2022091113, 3722), dtype: float64"
      ]
     },
     "execution_count": 8,
     "metadata": {},
     "output_type": "execute_result"
    }
   ],
   "source": [
    "dataset[0][\"play_features_encoded\"]\n"
   ]
  },
  {
   "cell_type": "code",
   "execution_count": 4,
   "metadata": {},
   "outputs": [],
   "source": [
    "from datasets import *\n",
    "\n",
    "def collate_padded_play_data_with_context(batch):\n",
    "    batchdict = create_batchdict(batch)\n",
    "    X_geometric = torch.cat([pad_sequence(batchdict[k], batch_first=True, padding_value=PAD_VALUE) for k in GEOMETRIC_KEYS + RAW_KEYS], dim=2)\n",
    "    X_ball_carrier = pad_sequence(batchdict[\"ball_carrier_raw\"], batch_first=True, padding_value=PAD_VALUE)\n",
    "    X_tacklers, n_tacklers = pad_tacklers(batchdict[\"tacklers_raw\"])\n",
    "    import pdb; pdb.set_trace()\n",
    "    X_padded_static = None # TODO: tile in time, then pad_sequence\n",
    "    return {\n",
    "        \"time_series_features\": (X_geometric, X_ball_carrier, X_tacklers, n_tacklers),\n",
    "        \"features\": X_padded_static,\n",
    "        \"target\": torch.tensor(batchdict[TARGET_KEY], dtype=torch.float),\n",
    "        \"treatment\": torch.tensor(batchdict[TREATMENT_KEY], dtype=torch.float),\n",
    "    }\n",
    "\n",
    "def collate_padded_play_data_with_carrier_tackler_and_raw_info(batch):\n",
    "    batchdict = create_batchdict(batch)\n",
    "    X_geometric = torch.cat([pad_sequence(batchdict[k], batch_first=True, padding_value=PAD_VALUE) for k in GEOMETRIC_KEYS + RAW_KEYS], dim=2)\n",
    "    X_ball_carrier = pad_sequence(batchdict[\"ball_carrier_raw\"], batch_first=True, padding_value=PAD_VALUE)\n",
    "    X_tacklers, n_tacklers = pad_tacklers(batchdict[\"tacklers_raw\"])\n",
    "    return {\n",
    "        \"time_series_features\": (X_geometric, X_ball_carrier, X_tacklers, n_tacklers),\n",
    "        \"target\": torch.tensor(batchdict[TARGET_KEY], dtype=torch.float),\n",
    "        \"treatment\": torch.tensor(batchdict[TREATMENT_KEY], dtype=torch.float),\n",
    "    }\n",
    "\n",
    "dataloader = DataLoader(dataset, batch_size=4, shuffle=False, collate_fn=collate_padded_play_data_with_carrier_tackler_and_raw_info)\n",
    "batch = next(iter(dataloader))\n"
   ]
  },
  {
   "cell_type": "code",
   "execution_count": 12,
   "metadata": {},
   "outputs": [
    {
     "data": {
      "text/plain": [
       "tensor([ 1.9286e+01,  1.0480e+01,  3.8338e+00,  8.9530e+01,  5.3906e-03,\n",
       "         3.4318e+01,  8.2177e+00,  2.5561e+00,  2.9008e+02,  4.9455e-01,\n",
       "         3.0408e+01,  8.6422e+00,  4.0009e+00,  2.9867e+02, -9.7618e-01,\n",
       "         3.2574e+01,  9.1777e+00,  3.7400e+00,  2.2916e+02, -9.8451e-01,\n",
       "         2.3795e+01,  7.2280e+00,  2.1739e+00, -5.4800e+00,  6.9442e-01,\n",
       "         1.3922e+01,  7.0265e+00,  2.5799e+00, -3.0410e+01,  5.3531e-01,\n",
       "         2.3409e+01,  7.9154e+00,  2.7080e+00, -2.4020e+01,  4.4220e-01,\n",
       "         3.3115e+01,  8.0008e+00,  2.8082e+00,  1.3324e+02,  2.7413e-01,\n",
       "         1.4908e+01,  6.9230e+00,  2.5843e+00, -7.2000e+00,  6.0835e-01,\n",
       "         3.0462e+01,  8.9044e+00,  4.1169e+00, -2.7630e+01, -7.9950e-01,\n",
       "         3.5449e+01,  7.3952e+00,  2.3615e+00,  1.8940e+02,  6.1813e-01,\n",
       "         1.4619e+01,  1.3415e+01,  4.6246e+00,  7.7720e+01, -6.8236e-01,\n",
       "         9.7135e+00,  1.6072e+01,  7.2316e+00, -9.7600e+00, -9.4434e-01,\n",
       "         1.6783e+01,  9.1103e+00,  3.6585e+00, -1.1130e+01,  1.3402e-01,\n",
       "         3.9957e+00,  1.5473e+01,  3.5696e+00,  1.4970e+01, -7.3984e-01,\n",
       "         1.5406e+01,  4.5108e+00,  1.6902e+00, -1.2000e+01,  8.4385e-01,\n",
       "         1.6918e+01,  1.3800e+01,  4.1116e+00,  1.5040e+01, -7.8508e-01,\n",
       "         2.7519e+01,  1.2242e+01,  4.0403e+00,  2.2260e+01, -9.6408e-01,\n",
       "         2.7951e+01,  4.3213e+00,  2.0902e+00,  2.5570e+01,  9.0592e-01,\n",
       "         2.9333e+01,  1.1489e+01,  3.5498e+00,  2.8250e+01, -9.9970e-01,\n",
       "         2.0977e+00,  1.0801e+01,  5.3748e+00, -7.6200e+00,  2.3185e-01,\n",
       "         4.4080e+01,  2.6370e+01,  6.4300e+00,  2.5000e+00,  2.7072e+02,\n",
       "         2.2918e+02,  7.8750e+01,  2.3640e+01,  1.9000e-01,  1.1400e+00,\n",
       "         3.0245e+02,  2.8630e+01,  7.5840e+01,  2.6280e+01,  3.4000e-01,\n",
       "         1.1000e+00,  2.5199e+02,  2.0040e+01,  7.9840e+01,  2.8530e+01,\n",
       "         8.8000e-01,  8.3000e-01,  3.1368e+02,  8.9550e+01,  7.1910e+01,\n",
       "         3.2340e+01,  1.7100e+00,  1.4700e+00,  2.7112e+02,  3.2419e+02,\n",
       "         6.3750e+01,  3.8000e+01,  4.7700e+00,  2.3200e+00,  3.3339e+02,\n",
       "         3.4912e+02,  7.0910e+01,  3.1450e+01,  1.0100e+00,  1.9800e+00,\n",
       "         3.5347e+02,  3.4273e+02,  7.7680e+01,  2.4220e+01,  2.6600e+00,\n",
       "         8.1000e-01,  3.5343e+02,  1.8547e+02,  6.6020e+01,  4.1830e+01,\n",
       "         7.1600e+00,  2.9200e+00,  3.1993e+02,  3.2591e+02,  7.5640e+01,\n",
       "         2.5920e+01,  7.3000e-01,  1.3900e+00,  3.2200e+02,  3.4634e+02,\n",
       "         8.0660e+01,  2.4370e+01,  1.6700e+00,  2.3600e+00,  2.5284e+02,\n",
       "         1.2931e+02,  4.3830e+01,  3.1690e+01,  6.2900e+00,  2.1100e+00,\n",
       "         2.8426e+02,  2.4099e+02,  6.0000e+01,  3.9910e+01,  7.9900e+00,\n",
       "         4.4100e+00,  3.1739e+02,  3.2847e+02,  4.0610e+01,  3.1320e+01,\n",
       "         5.0100e+00,  2.6300e+00,  8.7500e+00,  3.2984e+02,  5.4940e+01,\n",
       "         4.2580e+01,  8.2800e+00,  8.2000e-01,  2.9700e+02,  3.0374e+02,\n",
       "         6.6280e+01,  4.0610e+01,  6.3300e+00,  1.8300e+00,  3.2088e+02,\n",
       "         3.3071e+02,  6.5370e+01,  3.4840e+01,  6.2800e+00,  1.4000e+00,\n",
       "         2.9759e+02,  3.0367e+02,  7.4290e+01,  2.9110e+01,  4.0300e+00,\n",
       "         1.1500e+00,  2.9165e+02,  2.9645e+02,  7.1480e+01,  2.4900e+01,\n",
       "         5.0200e+00,  9.6000e-01,  2.8799e+02,  2.9314e+02,  7.3390e+01,\n",
       "         2.4940e+01,  3.1800e+00,  6.3000e-01,  2.9805e+02,  2.9046e+02,\n",
       "         5.3090e+01,  4.3140e+01,  9.0900e+00,  5.2400e+00,  3.2055e+02,\n",
       "         3.2633e+02], dtype=torch.float64)"
      ]
     },
     "execution_count": 12,
     "metadata": {},
     "output_type": "execute_result"
    }
   ],
   "source": []
  },
  {
   "cell_type": "code",
   "execution_count": 25,
   "metadata": {},
   "outputs": [
    {
     "data": {
      "text/plain": [
       "tensor(True)"
      ]
     },
     "execution_count": 25,
     "metadata": {},
     "output_type": "execute_result"
    }
   ],
   "source": [
    "first_X = batch[\"time_series_features\"][0][0, 0, :]\n",
    "n_feats = len(first_X)\n",
    "raw_feature_start_idx = (N_OFFENSE + N_DEFENSE) * N_GEOMETRIC_FEATS\n",
    "new_indices = (torch.arange(n_feats) < raw_feature_start_idx) | (torch.remainder(torch.arange(n_feats) - raw_feature_start_idx, N_FEATS_PER_PLAYER_PER_TIMESTEP) != 0)\n",
    "final_first_X = first_X[new_indices]\n",
    "\n",
    "\n",
    "first_off_raw = dataset[0][\"offense_raw\"].iloc[0]\n",
    "first_def_raw = dataset[0][\"defense_raw\"].iloc[0]\n",
    "first_X_raw = torch.cat([\n",
    "    torch.from_numpy(dataset[0][\"offense_geometric\"].iloc[0].values),\n",
    "    torch.from_numpy(dataset[0][\"defense_geometric\"].iloc[0].values),\n",
    "    torch.from_numpy(first_off_raw[first_off_raw.index.get_level_values(1) != \"x\"].values),\n",
    "    torch.from_numpy(first_def_raw[first_def_raw.index.get_level_values(1) != \"x\"].values),\n",
    "    ])\n",
    "\n",
    "(final_first_X == first_X_raw).all()\n"
   ]
  },
  {
   "cell_type": "code",
   "execution_count": 22,
   "metadata": {},
   "outputs": [
    {
     "data": {
      "text/plain": [
       "42363.0  y       26.37\n",
       "         s        6.43\n",
       "         a        2.50\n",
       "         o      270.72\n",
       "         dir    229.18\n",
       "42587.0  y       23.64\n",
       "         s        0.19\n",
       "         a        1.14\n",
       "         o      302.45\n",
       "         dir     28.63\n",
       "42883.0  y       26.28\n",
       "         s        0.34\n",
       "         a        1.10\n",
       "         o      251.99\n",
       "         dir     20.04\n",
       "44912.0  y       28.53\n",
       "         s        0.88\n",
       "         a        0.83\n",
       "         o      313.68\n",
       "         dir     89.55\n",
       "46092.0  y       32.34\n",
       "         s        1.71\n",
       "         a        1.47\n",
       "         o      271.12\n",
       "         dir    324.19\n",
       "48541.0  y       38.00\n",
       "         s        4.77\n",
       "         a        2.32\n",
       "         o      333.39\n",
       "         dir    349.12\n",
       "52590.0  y       31.45\n",
       "         s        1.01\n",
       "         a        1.98\n",
       "         o      353.47\n",
       "         dir    342.73\n",
       "53444.0  y       24.22\n",
       "         s        2.66\n",
       "         a        0.81\n",
       "         o      353.43\n",
       "         dir    185.47\n",
       "53549.0  y       41.83\n",
       "         s        7.16\n",
       "         a        2.92\n",
       "         o      319.93\n",
       "         dir    325.91\n",
       "54494.0  y       25.92\n",
       "         s        0.73\n",
       "         a        1.39\n",
       "         o      322.00\n",
       "         dir    346.34\n",
       "Name: 0, dtype: float64"
      ]
     },
     "execution_count": 22,
     "metadata": {},
     "output_type": "execute_result"
    }
   ],
   "source": [
    "first_off_raw = dataset[0][\"offense_raw\"].iloc[0]\n",
    "first_off_raw[first_off_raw.index.get_level_values(1) != \"x\"]\n"
   ]
  },
  {
   "cell_type": "code",
   "execution_count": 4,
   "metadata": {},
   "outputs": [
    {
     "data": {
      "text/plain": [
       "[torch.Size([43, 1, 6]),\n",
       " torch.Size([21, 2, 6]),\n",
       " torch.Size([16, 1, 6]),\n",
       " torch.Size([47, 1, 6])]"
      ]
     },
     "execution_count": 4,
     "metadata": {},
     "output_type": "execute_result"
    }
   ],
   "source": [
    "test_batch_size = 4\n",
    "sample_batchdict = create_batchdict([dataset[i] for i in range(test_batch_size)])\n",
    "\n",
    "[t.view(t.size(0), -1, 6).size() for t in sample_batchdict[\"tacklers_raw\"]]\n"
   ]
  },
  {
   "cell_type": "code",
   "execution_count": 16,
   "metadata": {},
   "outputs": [
    {
     "data": {
      "text/plain": [
       "(torch.Size([4, 47, 105]),\n",
       " torch.Size([4, 47, 6]),\n",
       " torch.Size([4, 47, 2, 6]),\n",
       " tensor([1, 2, 1, 1]))"
      ]
     },
     "execution_count": 16,
     "metadata": {},
     "output_type": "execute_result"
    }
   ],
   "source": [
    "(batch['time_series_features'][0].size(),\n",
    "batch['time_series_features'][1].size(),\n",
    "batch['time_series_features'][2].size(),\n",
    "batch['time_series_features'][3],\n",
    ")\n"
   ]
  },
  {
   "cell_type": "code",
   "execution_count": 59,
   "metadata": {},
   "outputs": [],
   "source": [
    "# 248 is the dimensionality of the time-series features\n",
    "\n",
    "encoder_layer = nn.TransformerEncoderLayer(d_model=248, nhead=8, batch_first=True)\n",
    "transformer_encoder = nn.TransformerEncoder(encoder_layer, num_layers=6)\n",
    "X = batch[\"time_series_features\"].float()\n",
    "out = transformer_encoder(X, src_key_padding_mask=(X[..., 0] == PAD_VALUE))\n"
   ]
  },
  {
   "cell_type": "code",
   "execution_count": 60,
   "metadata": {},
   "outputs": [
    {
     "data": {
      "text/plain": [
       "torch.Size([8, 39, 248])"
      ]
     },
     "execution_count": 60,
     "metadata": {},
     "output_type": "execute_result"
    }
   ],
   "source": [
    "out.size() # batch size, time, n_features\n",
    "# in the future -- concat with batch_size, n_features' shaped things -- need to squish out the time dim\n"
   ]
  },
  {
   "cell_type": "code",
   "execution_count": 61,
   "metadata": {},
   "outputs": [
    {
     "data": {
      "text/plain": [
       "9672"
      ]
     },
     "execution_count": 61,
     "metadata": {},
     "output_type": "execute_result"
    }
   ],
   "source": [
    "39 * 248\n"
   ]
  },
  {
   "cell_type": "code",
   "execution_count": null,
   "metadata": {},
   "outputs": [],
   "source": []
  }
 ],
 "metadata": {
  "kernelspec": {
   "display_name": "nfl_bdb",
   "language": "python",
   "name": "python3"
  },
  "language_info": {
   "codemirror_mode": {
    "name": "ipython",
    "version": 3
   },
   "file_extension": ".py",
   "mimetype": "text/x-python",
   "name": "python",
   "nbconvert_exporter": "python",
   "pygments_lexer": "ipython3",
   "version": "3.11.5"
  }
 },
 "nbformat": 4,
 "nbformat_minor": 2
}
