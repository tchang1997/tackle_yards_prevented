{
 "cells": [
  {
   "cell_type": "code",
   "execution_count": 2,
   "metadata": {},
   "outputs": [
    {
     "data": {
      "text/plain": [
       "'2.1.0'"
      ]
     },
     "execution_count": 2,
     "metadata": {},
     "output_type": "execute_result"
    }
   ],
   "source": [
    "import torch\n",
    "import torch.nn as nn\n",
    "\n",
    "from torch.utils.data import Dataset, DataLoader\n",
    "from torch.nn.utils.rnn import pad_sequence\n",
    "\n",
    "\n",
    "\n",
    "import sys\n",
    "if \"..\" not in sys.path:\n",
    "    sys.path.insert(0, \"..\")\n",
    "\n",
    "from datasets import create_batchdict, PlayByPlayDataset\n",
    "\n",
    "dataset = PlayByPlayDataset(\"../data/nfl-big-data-bowl-2024/play_by_play_val.pkl\")\n",
    "\n",
    "\n",
    "torch.__version__\n"
   ]
  },
  {
   "cell_type": "code",
   "execution_count": 8,
   "metadata": {},
   "outputs": [
    {
     "data": {
      "text/plain": [
       "3.4594572025052197"
      ]
     },
     "execution_count": 8,
     "metadata": {},
     "output_type": "execute_result"
    }
   ],
   "source": [
    "import numpy as np\n",
    "\n",
    "y = np.array([dataset[i]['yards_after_contact'] for  i  in range(len(dataset))])\n",
    "np.mean(y)\n"
   ]
  },
  {
   "cell_type": "code",
   "execution_count": 8,
   "metadata": {},
   "outputs": [
    {
     "data": {
      "text/plain": [
       "Q1                       0.000000\n",
       "Q2                       0.000000\n",
       "Q3                       0.000000\n",
       "Q4                       1.000000\n",
       "OT                       0.000000\n",
       "down_1                   0.000000\n",
       "down_2                   0.000000\n",
       "down_3                   1.000000\n",
       "down_4                   0.000000\n",
       "yardage_short            0.000000\n",
       "yardage_medium           1.000000\n",
       "yardage_long             0.000000\n",
       "yardage_very_long        0.000000\n",
       "time                     3.066667\n",
       "preSnapHomeScore        19.000000\n",
       "preSnapVisitorScore      3.000000\n",
       "0                       16.000000\n",
       "formation_EMPTY          0.000000\n",
       "formation_I_FORM         0.000000\n",
       "formation_JUMBO          0.000000\n",
       "formation_PISTOL         0.000000\n",
       "formation_SHOTGUN        0.000000\n",
       "formation_SINGLEBACK     1.000000\n",
       "formation_WILDCAT        0.000000\n",
       "n_def_in_box_(0, 4]      0.000000\n",
       "n_def_in_box_(4, 5]      0.000000\n",
       "n_def_in_box_(5, 6]      0.000000\n",
       "n_def_in_box_(6, 7]      1.000000\n",
       "n_def_in_box_(7, 8]      0.000000\n",
       "n_def_in_box_(8, 12]     0.000000\n",
       "Name: (2022091113, 3722), dtype: float64"
      ]
     },
     "execution_count": 8,
     "metadata": {},
     "output_type": "execute_result"
    }
   ],
   "source": [
    "dataset[0][\"play_features_encoded\"]\n"
   ]
  },
  {
   "cell_type": "code",
   "execution_count": 10,
   "metadata": {},
   "outputs": [
    {
     "name": "stdout",
     "output_type": "stream",
     "text": [
      "> \u001b[1;32mc:\\users\\trent\\appdata\\local\\temp\\ipykernel_2044\\2877267107.py\u001b[0m(7)\u001b[0;36mcollate_padded_play_data_with_context\u001b[1;34m()\u001b[0m\n",
      "\n",
      "[]\n",
      "dict_keys(['offense_geometric', 'defense_geometric', 'offense_raw', 'defense_raw', 'ball_carrier_raw', 'tacklers_raw', 'event_timeseries', 'tackle_successful', 'yards_after_contact', 'play_features_encoded'])\n"
     ]
    }
   ],
   "source": [
    "def collate_padded_play_data_with_context(batch):\n",
    "    batchdict = create_batchdict(batch)\n",
    "    X_geometric = torch.cat([pad_sequence(batchdict[k], batch_first=True, padding_value=PAD_VALUE) for k in GEOMETRIC_KEYS + RAW_KEYS], dim=2)\n",
    "    X_ball_carrier = pad_sequence(batchdict[\"ball_carrier_raw\"], batch_first=True, padding_value=PAD_VALUE)\n",
    "    X_tacklers, n_tacklers = pad_tacklers(batchdict[\"tacklers_raw\"])\n",
    "    import pdb; pdb.set_trace()\n",
    "    X_padded_static = None # TODO: tile in time, then pad_sequence\n",
    "    return {\n",
    "        \"time_series_features\": (X_geometric, X_ball_carrier, X_tacklers, n_tacklers),\n",
    "        \"features\": X_padded_static,\n",
    "        \"target\": torch.tensor(batchdict[TARGET_KEY], dtype=torch.float),\n",
    "        \"treatment\": torch.tensor(batchdict[TREATMENT_KEY], dtype=torch.float),\n",
    "    }\n",
    "\n",
    "dataloader = DataLoader(dataset, batch_size=4, shuffle=False, collate_fn=collate_padded_play_data_with_context)\n",
    "batch = next(iter(dataloader))\n"
   ]
  },
  {
   "cell_type": "code",
   "execution_count": 14,
   "metadata": {},
   "outputs": [
    {
     "data": {
      "text/plain": [
       "torch.Size([4])"
      ]
     },
     "execution_count": 14,
     "metadata": {},
     "output_type": "execute_result"
    }
   ],
   "source": [
    "batch[\"time_series_features\"][3].size()\n"
   ]
  },
  {
   "cell_type": "code",
   "execution_count": 4,
   "metadata": {},
   "outputs": [
    {
     "data": {
      "text/plain": [
       "[torch.Size([43, 1, 6]),\n",
       " torch.Size([21, 2, 6]),\n",
       " torch.Size([16, 1, 6]),\n",
       " torch.Size([47, 1, 6])]"
      ]
     },
     "execution_count": 4,
     "metadata": {},
     "output_type": "execute_result"
    }
   ],
   "source": [
    "test_batch_size = 4\n",
    "sample_batchdict = create_batchdict([dataset[i] for i in range(test_batch_size)])\n",
    "\n",
    "[t.view(t.size(0), -1, 6).size() for t in sample_batchdict[\"tacklers_raw\"]]\n"
   ]
  },
  {
   "cell_type": "code",
   "execution_count": 16,
   "metadata": {},
   "outputs": [
    {
     "data": {
      "text/plain": [
       "(torch.Size([4, 47, 105]),\n",
       " torch.Size([4, 47, 6]),\n",
       " torch.Size([4, 47, 2, 6]),\n",
       " tensor([1, 2, 1, 1]))"
      ]
     },
     "execution_count": 16,
     "metadata": {},
     "output_type": "execute_result"
    }
   ],
   "source": [
    "(batch['time_series_features'][0].size(),\n",
    "batch['time_series_features'][1].size(),\n",
    "batch['time_series_features'][2].size(),\n",
    "batch['time_series_features'][3],\n",
    ")\n"
   ]
  },
  {
   "cell_type": "code",
   "execution_count": 59,
   "metadata": {},
   "outputs": [],
   "source": [
    "# 248 is the dimensionality of the time-series features\n",
    "\n",
    "encoder_layer = nn.TransformerEncoderLayer(d_model=248, nhead=8, batch_first=True)\n",
    "transformer_encoder = nn.TransformerEncoder(encoder_layer, num_layers=6)\n",
    "X = batch[\"time_series_features\"].float()\n",
    "out = transformer_encoder(X, src_key_padding_mask=(X[..., 0] == PAD_VALUE))\n"
   ]
  },
  {
   "cell_type": "code",
   "execution_count": 60,
   "metadata": {},
   "outputs": [
    {
     "data": {
      "text/plain": [
       "torch.Size([8, 39, 248])"
      ]
     },
     "execution_count": 60,
     "metadata": {},
     "output_type": "execute_result"
    }
   ],
   "source": [
    "out.size() # batch size, time, n_features\n",
    "# in the future -- concat with batch_size, n_features' shaped things -- need to squish out the time dim\n"
   ]
  },
  {
   "cell_type": "code",
   "execution_count": 61,
   "metadata": {},
   "outputs": [
    {
     "data": {
      "text/plain": [
       "9672"
      ]
     },
     "execution_count": 61,
     "metadata": {},
     "output_type": "execute_result"
    }
   ],
   "source": [
    "39 * 248\n"
   ]
  },
  {
   "cell_type": "code",
   "execution_count": null,
   "metadata": {},
   "outputs": [],
   "source": []
  }
 ],
 "metadata": {
  "kernelspec": {
   "display_name": "nfl_bdb",
   "language": "python",
   "name": "python3"
  },
  "language_info": {
   "codemirror_mode": {
    "name": "ipython",
    "version": 3
   },
   "file_extension": ".py",
   "mimetype": "text/x-python",
   "name": "python",
   "nbconvert_exporter": "python",
   "pygments_lexer": "ipython3",
   "version": "3.11.5"
  }
 },
 "nbformat": 4,
 "nbformat_minor": 2
}
